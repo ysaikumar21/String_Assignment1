{
  "nbformat": 4,
  "nbformat_minor": 0,
  "metadata": {
    "colab": {
      "provenance": []
    },
    "kernelspec": {
      "name": "python3",
      "display_name": "Python 3"
    },
    "language_info": {
      "name": "python"
    }
  },
  "cells": [
    {
      "cell_type": "markdown",
      "source": [
        "### Question 1: Write a Python program to count the number of characters in a string without using len function.\n",
        "\n",
        "- `sample input : `\n",
        "    - `var = 'python java'`\n",
        "- `sample output :`\n",
        "    - `result : 11`"
      ],
      "metadata": {
        "id": "HzF1JJMV4gCb"
      }
    },
    {
      "cell_type": "code",
      "execution_count": null,
      "metadata": {
        "colab": {
          "base_uri": "https://localhost:8080/"
        },
        "id": "1RuBTNfa4ZRm",
        "outputId": "f8d2d0b7-eb5f-4038-8f08-4195950239f2"
      },
      "outputs": [
        {
          "output_type": "stream",
          "name": "stdout",
          "text": [
            "sai kumar\n",
            "9\n"
          ]
        }
      ],
      "source": [
        "var=str(input())\n",
        "count=0\n",
        "for i in var:\n",
        "  count=count+1\n",
        "print(count)\n"
      ]
    },
    {
      "cell_type": "markdown",
      "source": [
        "### Question 2: Write a Python program to reverse a string without using [::-1]\n",
        "\n",
        "- `sample input : `\n",
        "    - `var = 'python'`\n",
        "- `sample output :`\n",
        "    - `result : nohtyp`"
      ],
      "metadata": {
        "id": "Q3AVPN7k5osI"
      }
    },
    {
      "cell_type": "code",
      "source": [
        "string=str(input())\n",
        "reversed_string=''\n",
        "for char in string:\n",
        "  reversed_string=char + reversed_string\n",
        "\n",
        "print(f'Original text : {string}')\n",
        "print(f'Reversed text : {reversed_string}')\n",
        "\n",
        "\n",
        "\n"
      ],
      "metadata": {
        "colab": {
          "base_uri": "https://localhost:8080/"
        },
        "id": "Cbdd1Jt547Yz",
        "outputId": "739eced2-bce6-4959-972d-a1bfddd31f00"
      },
      "execution_count": null,
      "outputs": [
        {
          "output_type": "stream",
          "name": "stdout",
          "text": [
            "data science\n",
            "Original text : data science\n",
            "Reversed text : ecneics atad\n"
          ]
        }
      ]
    },
    {
      "cell_type": "markdown",
      "source": [
        "### Question 3: Write a Python program to check if a string is a palindrome don't use [::-1].\n",
        "\n",
        "- `sample input : `\n",
        "    - `var = 'NUN'`\n",
        "- `sample output :`\n",
        "    - `result : It is a Palindrome`\n",
        "    \n",
        "- `palindrome concept = https://www.dictionary.com/e/palindromic-word/#:~:text=A%20palindrome%20is%20a%20word,roots%20in%20the%20early%201600s.`"
      ],
      "metadata": {
        "id": "s2XSGYRR-Q-d"
      }
    },
    {
      "cell_type": "code",
      "source": [
        "var=str(input())\n",
        "reversed_item=''\n",
        "for char in var:\n",
        "  reversed_item=char + reversed_item\n",
        "\n",
        "if reversed_item==var:\n",
        "  print('It is a Palindrome')\n",
        "else:\n",
        "  print('It is not a Palindrome')\n"
      ],
      "metadata": {
        "colab": {
          "base_uri": "https://localhost:8080/"
        },
        "id": "vSQf3Ame78lO",
        "outputId": "0bc78a7e-186d-4896-db33-c078eacfe881"
      },
      "execution_count": null,
      "outputs": [
        {
          "output_type": "stream",
          "name": "stdout",
          "text": [
            "moon\n",
            "It is not a Palindrome\n"
          ]
        }
      ]
    },
    {
      "cell_type": "markdown",
      "source": [
        "### Question 4: Write a Python program to find the most common character in a string.\n",
        "\n",
        "- `sample input : `\n",
        "    - `var = 'Hello world '`\n",
        "- `sample output :`\n",
        "    - `result : l, because l is repeating 3 times `"
      ],
      "metadata": {
        "id": "boHDhbTdB2cd"
      }
    },
    {
      "cell_type": "code",
      "source": [
        "string=str(input())\n",
        "dic_char={}\n",
        "\n",
        "for char in string:\n",
        "    if char in dic_char:\n",
        "      dic_char[char] +=1\n",
        "    else:\n",
        "      dic_char[char] =1\n",
        "\n",
        "\n",
        "print(dic_char)\n",
        "most_char=max(dic_char,key=dic_char.get)\n",
        "most_value=max(dic_char.values())\n",
        "print(f'\\n{most_char}, becuase {most_char} is repeating {most_value} times')\n"
      ],
      "metadata": {
        "colab": {
          "base_uri": "https://localhost:8080/"
        },
        "id": "S2xO07vP_xG8",
        "outputId": "6d326f80-1776-4ac7-a9e2-95c0539d3fdc"
      },
      "execution_count": null,
      "outputs": [
        {
          "output_type": "stream",
          "name": "stdout",
          "text": [
            "saiii\n",
            "{'s': 1, 'a': 1, 'i': 3}\n",
            "\n",
            "i, becuase i is repeating 3 times\n"
          ]
        }
      ]
    },
    {
      "cell_type": "code",
      "source": [],
      "metadata": {
        "id": "41SkNgKjDZh7"
      },
      "execution_count": null,
      "outputs": []
    },
    {
      "cell_type": "markdown",
      "source": [
        "### Question 5: Write a Python program to check if two strings are anagrams.\n",
        "\n",
        "- `sample input : `\n",
        "    - `var1 = 'listen'`\n",
        "    - `var2 = 'silent'`\n",
        "- `sample output :`\n",
        "    - `result : both are anagram because characters in var2 is in var1`"
      ],
      "metadata": {
        "id": "XFMtoxG6Hpzf"
      }
    },
    {
      "cell_type": "code",
      "source": [
        "var1='silent'\n",
        "var2='listen'\n",
        "\n",
        "\n",
        "sorted_var1=sorted(var1.lower())\n",
        "sorted_var2=sorted(var2.lower())\n",
        "\n",
        "if sorted_var1==sorted_var2:\n",
        "  print(f'both are anagram because characters in {var2} is in {var1}')\n",
        "else:\n",
        "  print(f'both are not anagram because both are different ')\n",
        "\n"
      ],
      "metadata": {
        "colab": {
          "base_uri": "https://localhost:8080/"
        },
        "id": "IiUYBBdwHqvr",
        "outputId": "a8bb3548-62c2-4a3b-a3ae-976f60bb89bf"
      },
      "execution_count": null,
      "outputs": [
        {
          "output_type": "stream",
          "name": "stdout",
          "text": [
            "both are anagram because characters in listen is in silent\n"
          ]
        }
      ]
    },
    {
      "cell_type": "markdown",
      "source": [
        "### Question 6: Write a Python program to remove all the vowels from a string.\n",
        "\n",
        "- `sample input : `\n",
        "    - `var = 'python'`\n",
        "- `sample output :`\n",
        "    - `result : pythn , because vowels are [AEIOUaeiou]`"
      ],
      "metadata": {
        "id": "VvZ6RqGRTjMv"
      }
    },
    {
      "cell_type": "code",
      "source": [
        "var=str(input())\n",
        "vowel='aeiouAEIOU'\n",
        "res=''\n",
        "for char in var:\n",
        "    if char not in vowel:\n",
        "      res=res+char\n",
        "\n",
        "\n",
        "text_without_vowels=res\n",
        "print(f'Original text : {var}')\n",
        "print(f'Text without vowel : {text_without_vowels}')"
      ],
      "metadata": {
        "colab": {
          "base_uri": "https://localhost:8080/"
        },
        "id": "5nr_4wasTl8_",
        "outputId": "12a3ced9-ec70-449e-cf59-e96a1d6847d8"
      },
      "execution_count": null,
      "outputs": [
        {
          "output_type": "stream",
          "name": "stdout",
          "text": [
            "saikumar\n",
            "Original text : saikumar\n",
            "Text without vowel : skmr\n"
          ]
        }
      ]
    },
    {
      "cell_type": "markdown",
      "source": [
        "### Question 7: Write a Python program to find the longest word in a string.\n",
        "\n",
        "- `sample input : `\n",
        "    - `var = 'python is Easy Language'`\n",
        "- `sample output :`\n",
        "    - `result : Language`"
      ],
      "metadata": {
        "id": "O4hdnVgK98LY"
      }
    },
    {
      "cell_type": "code",
      "source": [
        "text='python is Easy Language'\n",
        "\n",
        "longest_word=''\n",
        "longest_length=0\n",
        "for word in text.split():\n",
        "  current_length=len(word)\n",
        "  if current_length > longest_length:\n",
        "    longest_word=word\n",
        "    longest_length=current_length\n",
        "\n",
        "\n",
        "print(longest_word)\n",
        "\n",
        "\n"
      ],
      "metadata": {
        "id": "Ivef_n4PVPFO",
        "colab": {
          "base_uri": "https://localhost:8080/"
        },
        "outputId": "b41432e3-5804-4064-fd82-ffe61cc6da9e"
      },
      "execution_count": null,
      "outputs": [
        {
          "output_type": "stream",
          "name": "stdout",
          "text": [
            "Language\n"
          ]
        }
      ]
    },
    {
      "cell_type": "markdown",
      "source": [
        "### Question 8: Write a Python program to capitalize the first letter of each word in a string [dont use built-in-function title].\n",
        "\n",
        "- `sample input : `\n",
        "    - `var = 'python is easy'`\n",
        "- `sample output :`\n",
        "    - `result : Python Is Easy`"
      ],
      "metadata": {
        "id": "K3u6bf4wEMlV"
      }
    },
    {
      "cell_type": "code",
      "source": [
        "text=str(input())\n",
        "\n",
        "def capitalized_first_letter(text):\n",
        "  capitalized_text=''\n",
        "\n",
        "  for i , char in enumerate(text):\n",
        "    if i==0 or text[i-1]==' ':\n",
        "      capitalized_text+=char.upper()\n",
        "    else:\n",
        "      capitalized_text+=char.lower()\n",
        "  return capitalized_text\n",
        "\n",
        "capitalized=capitalized_first_letter(text)\n",
        "\n",
        "print(capitalized)\n"
      ],
      "metadata": {
        "colab": {
          "base_uri": "https://localhost:8080/"
        },
        "id": "mQN1LEEq-UmB",
        "outputId": "b7fc7020-a79b-465f-acb6-a5c0372e32d6"
      },
      "execution_count": null,
      "outputs": [
        {
          "output_type": "stream",
          "name": "stdout",
          "text": [
            "sAi kUMAR\n",
            "Sai Kumar\n"
          ]
        }
      ]
    },
    {
      "cell_type": "markdown",
      "source": [
        "### Question 9: Write a Python program to find the frequency of each character in a string.\n",
        "\n",
        "- `sample input : `\n",
        "    - `var = 'sharuk khan'`\n",
        "- `sample output :`\n",
        "    - `result : {'s': 1, 'h': 2, 'a': 2, 'r': 1, 'u': 1, 'k': 2, ' ': 1, 'n': 1}`"
      ],
      "metadata": {
        "id": "kbzpTWSrNJWb"
      }
    },
    {
      "cell_type": "code",
      "source": [
        "string=str(input())\n",
        "dic_char={}\n",
        "\n",
        "for char in string:\n",
        "    if char in dic_char:\n",
        "      dic_char[char] +=1\n",
        "    else:\n",
        "      dic_char[char] =1\n",
        "\n",
        "\n",
        "print(dic_char)"
      ],
      "metadata": {
        "colab": {
          "base_uri": "https://localhost:8080/"
        },
        "id": "r5jK4ZuUJLod",
        "outputId": "491108ce-63f7-466e-f2b5-e6d7abd6dae1"
      },
      "execution_count": null,
      "outputs": [
        {
          "output_type": "stream",
          "name": "stdout",
          "text": [
            "saikumar yaramala\n",
            "{'s': 1, 'a': 6, 'i': 1, 'k': 1, 'u': 1, 'm': 2, 'r': 2, ' ': 1, 'y': 1, 'l': 1}\n"
          ]
        }
      ]
    },
    {
      "cell_type": "markdown",
      "source": [
        "### Question 10: write a python programme to find the sum of all the even characters based on Ascii values\n",
        "\n",
        "- `sample input : `\n",
        "    - `var = 'sharuk khan'`\n",
        "- `sample output :`\n",
        "    - `result : 464`\n"
      ],
      "metadata": {
        "id": "sWBlDq6JP7wy"
      }
    },
    {
      "cell_type": "code",
      "source": [
        "text=str(input())\n",
        "\n",
        "def even_sum_ascii(text):\n",
        "  even_sum=0\n",
        "  for char in text:\n",
        "\n",
        "    if ord(char)%2==0:\n",
        "      even_sum+=ord(char)\n",
        "\n",
        "  return even_sum\n",
        "\n",
        "sum_of_even=even_sum_ascii(text)\n",
        "print(f'Sum of the even ASCII characters : {sum_of_even}')# if ascii value is even add and print sum value but if it's not even print sum value is 0.\n"
      ],
      "metadata": {
        "colab": {
          "base_uri": "https://localhost:8080/"
        },
        "id": "nhziLmxuOkpb",
        "outputId": "41324c2f-a2a6-44b5-b5d6-acce4025ab9f"
      },
      "execution_count": null,
      "outputs": [
        {
          "output_type": "stream",
          "name": "stdout",
          "text": [
            "ABCDEFGHIJ\n",
            "Sum of the even ASCII characters : 350\n"
          ]
        }
      ]
    },
    {
      "cell_type": "code",
      "source": [
        "\n"
      ],
      "metadata": {
        "colab": {
          "base_uri": "https://localhost:8080/"
        },
        "id": "0NeNBKdfS70w",
        "outputId": "05001602-dfaa-4439-827c-c79747e4432f"
      },
      "execution_count": null,
      "outputs": [
        {
          "output_type": "execute_result",
          "data": {
            "text/plain": [
              "198"
            ]
          },
          "metadata": {},
          "execution_count": 73
        }
      ]
    },
    {
      "cell_type": "code",
      "source": [],
      "metadata": {
        "id": "JJAkyk9OTdqi"
      },
      "execution_count": null,
      "outputs": []
    }
  ]
}